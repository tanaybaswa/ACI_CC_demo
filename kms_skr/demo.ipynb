{
 "cells": [
  {
   "cell_type": "markdown",
   "metadata": {},
   "source": [
    "# KMS on a Confidential Container on ACI"
   ]
  },
  {
   "attachments": {},
   "cell_type": "markdown",
   "metadata": {},
   "source": [
    "### Step 1 : Setup \n",
    "\n",
    "In this step we will \n",
    "- Setup the necessary libraries and customizable variables \n",
    "- Request the public key from attestation well known endpoint and create jwks object that will be used to verify the attestation tokens later in the demo. "
   ]
  },
  {
   "cell_type": "code",
   "execution_count": 14,
   "metadata": {},
   "outputs": [
    {
     "name": "stdout",
     "output_type": "stream",
     "text": [
      "JWKS object created successfully.\n"
     ]
    }
   ],
   "source": [
    "\n",
    "import subprocess\n",
    "import json\n",
    "import base64\n",
    "import requests\n",
    "from jose import jwt, JWTError\n",
    "import json\n",
    "from cryptography.hazmat.backends import default_backend\n",
    "from cryptography.hazmat.primitives import serialization\n",
    "from cryptography.hazmat.primitives.asymmetric import rsa\n",
    "from cryptography import x509\n",
    "from hashlib import sha256\n",
    "\n",
    "\n",
    "registry_name = 'docker.io/tanaybaswa' \n",
    "attestation_endpoint = 'sharedeus2.eus2.test.attest.azure.net'\n",
    "\n",
    "# Random for now, can be updated for specific functionality.\n",
    "runtime_data = 'eyJrZXlzIjpbeyJlIjoiQVFBQiIsImtleV9vcHMiOlsiZW5jcnlwdCJdLCJraWQiOiJOdmhmdXEyY0NJT0FCOFhSNFhpOVByME5QXzlDZU16V1FHdFdfSEFMel93Iiwia3R5IjoiUlNBIiwibiI6InY5NjVTUm15cDh6Ykc1ZU5GdURDbW1pU2VhSHB1akcyYkNfa2VMU3V6dkRNTE8xV3lyVUp2ZWFhNWJ6TW9PMHBBNDZwWGttYnFIaXNvelZ6cGlORExDbzZkM3o0VHJHTWVGUGYyQVBJTXUtUlNyek41NnF2SFZ5SXI1Y2FXZkhXay1GTVJEd0FlZnlOWVJIa2RZWWtnbUZLNDRoaFVkdGxDQUtFdjVVUXBGWmp2aDRpSTlqVkJkR1lNeUJhS1FMaGpJNVdJaC1RRzZaYTVzU3VPQ0ZNbm11eXV2TjVEZmxwTEZ6NTk1U3MtRW9CSVktTmlsNmxDdHZjR2dSLUlialVZSEFPczVhamFtVHpnZU84a3gzVkNFOUhjeUtteVVac2l5aUY2SURScDJCcHkzTkhUakl6N3Rta3BUSHg3dEhuUnRsZkUyRlV2MEI2aV9RWWxfWkE1USJ9XX0='\n",
    "\n",
    "# Extract the public key from the openid-configuration and create a JWKS object\n",
    "\n",
    "def rsa_public_key_from_pem(cert_pem):\n",
    "    cert = x509.load_pem_x509_certificate(cert_pem.encode(), default_backend())\n",
    "    return cert.public_key()\n",
    "\n",
    "response = requests.get(f\"https://{attestation_endpoint}/certs\")\n",
    "\n",
    "if response.status_code == 200:\n",
    "    cert_data = response.json()\n",
    "    keys = cert_data['keys']\n",
    "\n",
    "    # Step 2: Create a JWKS object\n",
    "    jwks = []\n",
    "\n",
    "    for key_data in keys:\n",
    "        x5c = key_data.get('x5c', [])\n",
    "        if x5c:\n",
    "            cert_pem = \"-----BEGIN CERTIFICATE-----\\n\" + x5c[0] + \"\\n-----END CERTIFICATE-----\"\n",
    "            public_key = rsa_public_key_from_pem(cert_pem)\n",
    "            jwks.append((key_data['kid'], public_key))\n",
    "\n",
    "    print(\"JWKS object created successfully.\")\n",
    "else:\n",
    "    print(\"Failed to retrieve the signing keys.\")"
   ]
  },
  {
   "attachments": {},
   "cell_type": "markdown",
   "metadata": {},
   "source": [
    "### Step 2a : Build and upload container image to registry \n",
    "\n",
    "In this step we are going to build the \"sum\" container image that exposes a rest endpoint to calculate the sum of two numbers and also exposes an endpoint to get a MAA attestation token. "
   ]
  },
  {
   "cell_type": "code",
   "execution_count": 9,
   "metadata": {},
   "outputs": [
    {
     "data": {
      "text/plain": [
       "CompletedProcess(args=['docker push tanaybaswa/attestedkms:latest'], returncode=0, stdout='The push refers to repository [docker.io/tanaybaswa/attestedkms]\\n5f70bf18a086: Preparing\\nf73ab0be9222: Preparing\\nf2b087a0b61e: Preparing\\nbd6143418689: Preparing\\n1847aa24cd34: Preparing\\n2f6e140f1970: Preparing\\nf30c9841a094: Preparing\\na886fdc1df20: Preparing\\nb2e5b1eee192: Preparing\\nb485c6cd33a6: Preparing\\n6aa872026017: Preparing\\n43ba18a5eaf8: Preparing\\n2f6e140f1970: Waiting\\nf30c9841a094: Waiting\\na886fdc1df20: Waiting\\nff61a9b258e5: Preparing\\nb2e5b1eee192: Waiting\\nb485c6cd33a6: Waiting\\n6aa872026017: Waiting\\n43ba18a5eaf8: Waiting\\nff61a9b258e5: Waiting\\nbd6143418689: Layer already exists\\n5f70bf18a086: Layer already exists\\nf73ab0be9222: Layer already exists\\nf2b087a0b61e: Layer already exists\\n1847aa24cd34: Layer already exists\\nf30c9841a094: Layer already exists\\n2f6e140f1970: Layer already exists\\na886fdc1df20: Layer already exists\\nb485c6cd33a6: Layer already exists\\nb2e5b1eee192: Layer already exists\\n6aa872026017: Layer already exists\\n43ba18a5eaf8: Layer already exists\\nff61a9b258e5: Layer already exists\\nlatest: digest: sha256:ed73a627ee94c6827066cdc83f0529ef245eae9d511907ef524bead76f8c262b size: 3050\\n', stderr='')"
      ]
     },
     "execution_count": 9,
     "metadata": {},
     "output_type": "execute_result"
    }
   ],
   "source": [
    "# build and push the image to the registry\n",
    "subprocess.run([\"docker build -t tanaybaswa/attestedkms:latest /home/tanaybaswa/code/enkryptai/key-manager/\"], shell=True, capture_output=True, text=True)\n",
    "subprocess.run([\"docker push tanaybaswa/attestedkms:latest\"], shell=True, capture_output=True, text=True)"
   ]
  },
  {
   "cell_type": "markdown",
   "metadata": {},
   "source": [
    "### Step 2b: Convert both the SKR and KMS images into one tar file."
   ]
  },
  {
   "cell_type": "code",
   "execution_count": 10,
   "metadata": {},
   "outputs": [
    {
     "data": {
      "text/plain": [
       "CompletedProcess(args=['docker save tanaybaswa/skr:latest tanaybaswa/attestedkms:latest -o attested_kms.tar'], returncode=0, stdout='', stderr='')"
      ]
     },
     "execution_count": 10,
     "metadata": {},
     "output_type": "execute_result"
    }
   ],
   "source": [
    "subprocess.run([\"docker save tanaybaswa/skr:latest tanaybaswa/attestedkms:latest -o attested_kms.tar\"], shell=True, capture_output=True, text=True)\n"
   ]
  },
  {
   "attachments": {},
   "cell_type": "markdown",
   "metadata": {},
   "source": [
    "### Step 3 : Generate security policy for sum container \n",
    "\n",
    "We will use the confcom tooling to generate a security policy from the Azure Resource Manager template. We will further generate a SHA-256 hash of the security policy which will be used later in the demo to verify whether the container group is running the right configuration. \n",
    "\n",
    "Note : The \"ccePolicy\" attribute of the ARM template must be set to a null string \"\" for this step to work. The tooling requires user input to override the policy if already present and user input is not supported in the notebook. "
   ]
  },
  {
   "cell_type": "code",
   "execution_count": 15,
   "metadata": {},
   "outputs": [
    {
     "data": {
      "text/plain": [
       "CompletedProcess(args=['az confcom acipolicygen -a template_kms_skr.json --tar attested_kms.tar'], returncode=0, stdout=b'708927e5febd5666d4cac83e7cb76b2313c8b85e99626005e1a981486c3aa34f\\n', stderr=b'WARNING: Command group \\'confcom\\' is in preview and under development. Reference and support levels: https://aka.ms/CLI_refstatus\\nWARNING: Generating security policy for ARM Template: template_kms_skr.json in base64\\n\\rPulling and hashing images...:   0%|\\x1b[32m          \\x1b[0m| 0/4 [00:00<?, ?percent/s]\\rPulling and hashing images...:  50%|\\x1b[32m\\xe2\\x96\\x88\\xe2\\x96\\x88\\xe2\\x96\\x88\\xe2\\x96\\x88\\xe2\\x96\\x88     \\x1b[0m| 2/4 [00:00<00:00,  8.33percent/s]\\rPulling and hashing images...: 100%|\\x1b[32m\\xe2\\x96\\x88\\xe2\\x96\\x88\\xe2\\x96\\x88\\xe2\\x96\\x88\\xe2\\x96\\x88\\xe2\\x96\\x88\\xe2\\x96\\x88\\xe2\\x96\\x88\\xe2\\x96\\x88\\xe2\\x96\\x88\\x1b[0m| 4/4 [00:08<00:00,  2.61s/percent]\\rPulling and hashing images...: 100%|\\x1b[32m\\xe2\\x96\\x88\\xe2\\x96\\x88\\xe2\\x96\\x88\\xe2\\x96\\x88\\xe2\\x96\\x88\\xe2\\x96\\x88\\xe2\\x96\\x88\\xe2\\x96\\x88\\xe2\\x96\\x88\\xe2\\x96\\x88\\x1b[0m| 4/4 [00:08<00:00,  2.23s/percent]\\nWARNING: Using local version of docker.io/tanaybaswa/skr:latest. It may differ from the remote image\\nWARNING: Using image tag \"latest\" is not recommended\\nWARNING: Using local version of docker.io/tanaybaswa/attestedkms:latest. It may differ from the remote image\\nWARNING: Using image tag \"latest\" is not recommended\\n')"
      ]
     },
     "execution_count": 15,
     "metadata": {},
     "output_type": "execute_result"
    }
   ],
   "source": [
    "# generate security policy\n",
    "subprocess.run([\"az confcom acipolicygen -a template_kms_skr.json --tar attested_kms.tar\"], capture_output=True, shell=True)\n"
   ]
  },
  {
   "cell_type": "code",
   "execution_count": 16,
   "metadata": {},
   "outputs": [
    {
     "name": "stdout",
     "output_type": "stream",
     "text": [
      "hash of security policy:  708927e5febd5666d4cac83e7cb76b2313c8b85e99626005e1a981486c3aa34f\n"
     ]
    }
   ],
   "source": [
    "\n",
    "# get the hash of the security policy\n",
    "with open(\"template_kms_skr.json\", \"r\") as f:\n",
    "    # open the template and grab the cce policy\n",
    "    template = json.loads(f.read())\n",
    "    security_policy = template.get('resources')[0]['properties']['confidentialComputeProperties']['ccePolicy']\n",
    "    # decode the base64 encoded policy and hash it\n",
    "    sha256_hash_sum = sha256(base64.b64decode(security_policy)).hexdigest()\n",
    "    # print the hash\n",
    "    print(\"hash of security policy: \", sha256_hash_sum)\n"
   ]
  },
  {
   "attachments": {},
   "cell_type": "markdown",
   "metadata": {},
   "source": [
    "### Step 4 \n",
    "\n",
    "Deploy the container group to ACI."
   ]
  },
  {
   "cell_type": "code",
   "execution_count": 17,
   "metadata": {},
   "outputs": [
    {
     "data": {
      "text/plain": [
       "CompletedProcess(args=['az deployment group create -g cc_aci -f template_kms_skr.json'], returncode=0, stdout=b'{\\n  \"id\": \"/subscriptions/7d862a03-c825-4759-9229-1333b52b7e29/resourceGroups/cc_aci/providers/Microsoft.Resources/deployments/template_kms_skr\",\\n  \"location\": null,\\n  \"name\": \"template_kms_skr\",\\n  \"properties\": {\\n    \"correlationId\": \"3c79ac76-c806-4898-ab86-8b09c5615351\",\\n    \"debugSetting\": null,\\n    \"dependencies\": [],\\n    \"duration\": \"PT1M22.0059701S\",\\n    \"error\": null,\\n    \"mode\": \"Incremental\",\\n    \"onErrorDeployment\": null,\\n    \"outputResources\": [\\n      {\\n        \"id\": \"/subscriptions/7d862a03-c825-4759-9229-1333b52b7e29/resourceGroups/cc_aci/providers/Microsoft.ContainerInstance/containerGroups/attested_kms\",\\n        \"resourceGroup\": \"cc_aci\"\\n      }\\n    ],\\n    \"outputs\": {\\n      \"containerIPv4Address\": {\\n        \"type\": \"String\",\\n        \"value\": \"20.75.173.14\"\\n      }\\n    },\\n    \"parameters\": {\\n      \"containerGroupName\": {\\n        \"type\": \"String\",\\n        \"value\": \"attested_kms\"\\n      }\\n    },\\n    \"parametersLink\": null,\\n    \"providers\": [\\n      {\\n        \"id\": null,\\n        \"namespace\": \"Microsoft.ContainerInstance\",\\n        \"providerAuthorizationConsentState\": null,\\n        \"registrationPolicy\": null,\\n        \"registrationState\": null,\\n        \"resourceTypes\": [\\n          {\\n            \"aliases\": null,\\n            \"apiProfiles\": null,\\n            \"apiVersions\": null,\\n            \"capabilities\": null,\\n            \"defaultApiVersion\": null,\\n            \"locationMappings\": null,\\n            \"locations\": [\\n              \"eastus\"\\n            ],\\n            \"properties\": null,\\n            \"resourceType\": \"containerGroups\",\\n            \"zoneMappings\": null\\n          }\\n        ]\\n      }\\n    ],\\n    \"provisioningState\": \"Succeeded\",\\n    \"templateHash\": \"4877497862424950208\",\\n    \"templateLink\": null,\\n    \"timestamp\": \"2023-08-31T02:09:53.890431+00:00\",\\n    \"validatedResources\": null\\n  },\\n  \"resourceGroup\": \"cc_aci\",\\n  \"tags\": null,\\n  \"type\": \"Microsoft.Resources/deployments\"\\n}\\n', stderr=b'')"
      ]
     },
     "execution_count": 17,
     "metadata": {},
     "output_type": "execute_result"
    }
   ],
   "source": [
    "#deploy ARM Template \n",
    "# TODO : Need to update the resource group name to your own resource group name\n",
    "result = subprocess.run([\"az deployment group create -g cc_aci -f template_kms_skr.json\"], capture_output=True, shell=True)\n",
    "result"
   ]
  },
  {
   "attachments": {},
   "cell_type": "markdown",
   "metadata": {},
   "source": [
    "### Step 5 : Check for successful deployment on Azure Portal and get attestation token\n",
    "In this step we will check for the successful deployment and get the attestation token verified by MAA. We will compare the contents of the \"x-ms-sevsnpvm-hostdata\" claim and check whether it matches the policy hash from step 3"
   ]
  },
  {
   "cell_type": "code",
   "execution_count": 34,
   "metadata": {},
   "outputs": [
    {
     "name": "stdout",
     "output_type": "stream",
     "text": [
      "Maa Response:  {'result': '{\"token\":\"eyJhbGciOiJSUzI1NiIsImprdSI6Imh0dHBzOi8vc2hhcmVkZXVzMi5ldXMyLnRlc3QuYXR0ZXN0LmF6dXJlLm5ldC9jZXJ0cyIsImtpZCI6IjNiZENZSmFiemZoSVNGdGIzSjh5dUVFU1p3dWZWN2hoaDA4TjNaZmxBdUU9IiwidHlwIjoiSldUIn0.eyJleHAiOjE2OTM0Nzc2NDQsImlhdCI6MTY5MzQ0ODg0NCwiaXNzIjoiaHR0cHM6Ly9zaGFyZWRldXMyLmV1czIudGVzdC5hdHRlc3QuYXp1cmUubmV0IiwianRpIjoiOGE0ZWYzZWJmYmIxNDMyYzE1YzY3NGU0OTg4MTNjM2YyZmUwYTQzODM3YTg3OGViYzk5NTE1NWZlMjE5MjBmNyIsIm5iZiI6MTY5MzQ0ODg0NCwibm9uY2UiOiI3NjU1NjA4MzgxOTY3NjgxOTUzIiwieC1tcy1hdHRlc3RhdGlvbi10eXBlIjoic2V2c25wdm0iLCJ4LW1zLWNvbXBsaWFuY2Utc3RhdHVzIjoiYXp1cmUtY29tcGxpYW50LXV2bSIsIngtbXMtcG9saWN5LWhhc2giOiI5TlkwVm5UUS1JaUJyaUJwbFZVcEZiY3pjRGFFQlV3c2lGWUF6SHVfZ2NvIiwieC1tcy1ydW50aW1lIjp7ImtleXMiOlt7ImUiOiJBUUFCIiwia2V5X29wcyI6WyJlbmNyeXB0Il0sImtpZCI6Ik52aGZ1cTJjQ0lPQUI4WFI0WGk5UHIwTlBfOUNlTXpXUUd0V19IQUx6X3ciLCJrdHkiOiJSU0EiLCJuIjoidjk2NVNSbXlwOHpiRzVlTkZ1RENtbWlTZWFIcHVqRzJiQ19rZUxTdXp2RE1MTzFXeXJVSnZlYWE1YnpNb08wcEE0NnBYa21icUhpc296VnpwaU5ETENvNmQzejRUckdNZUZQZjJBUElNdS1SU3J6TjU2cXZIVnlJcjVjYVdmSFdrLUZNUkR3QWVmeU5ZUkhrZFlZa2dtRks0NGhoVWR0bENBS0V2NVVRcEZaanZoNGlJOWpWQmRHWU15QmFLUUxoakk1V0loLVFHNlphNXNTdU9DRk1ubXV5dXZONURmbHBMRno1OTVTcy1Fb0JJWS1OaWw2bEN0dmNHZ1ItSWJqVVlIQU9zNWFqYW1UemdlTzhreDNWQ0U5SGN5S215VVpzaXlpRjZJRFJwMkJweTNOSFRqSXo3dG1rcFRIeDd0SG5SdGxmRTJGVXYwQjZpX1FZbF9aQTVRIn1dfSwieC1tcy1zZXZzbnB2bS1hdXRob3JrZXlkaWdlc3QiOiIwMDAwMDAwMDAwMDAwMDAwMDAwMDAwMDAwMDAwMDAwMDAwMDAwMDAwMDAwMDAwMDAwMDAwMDAwMDAwMDAwMDAwMDAwMDAwMDAwMDAwMDAwMDAwMDAwMDAwMDAwMDAwMDAiLCJ4LW1zLXNldnNucHZtLWJvb3Rsb2FkZXItc3ZuIjozLCJ4LW1zLXNldnNucHZtLWZhbWlseUlkIjoiMDEwMDAwMDAwMDAwMDAwMDAwMDAwMDAwMDAwMDAwMDAiLCJ4LW1zLXNldnNucHZtLWd1ZXN0c3ZuIjoyLCJ4LW1zLXNldnNucHZtLWhvc3RkYXRhIjoiNzA4OTI3ZTVmZWJkNTY2NmQ0Y2FjODNlN2NiNzZiMjMxM2M4Yjg1ZTk5NjI2MDA1ZTFhOTgxNDg2YzNhYTM0ZiIsIngtbXMtc2V2c25wdm0taWRrZXlkaWdlc3QiOiJlYmVlZWFiY2UwNzVlZWFiYTNkOWVhMjRkODQ5NTEzN2EyODc3YzBkMjBhYzZlYTczZmM2ZDJmOGFlYjUwZGUxMzIxNTBlMGEwNzUyNjY0OTE5YmNlYmJmMmU4YzU4MDciLCJ4LW1zLXNldnNucHZtLWltYWdlSWQiOiIwMjAwMDAwMDAwMDAwMDAwMDAwMDAwMDAwMDAwMDAwMCIsIngtbXMtc2V2c25wdm0taXMtZGVidWdnYWJsZSI6ZmFsc2UsIngtbXMtc2V2c25wdm0tbGF1bmNobWVhc3VyZW1lbnQiOiIwM2ZlYTAyODIzMTg5YjI1ZDA2MjNhNWM4MWY5N2M4YmE0ZDJmYmM0OGM5MTRhNTVjZTUyNWY5MDQ1NGRkY2VjMzAzNzQzZGFjMmZjMDEzZjA4NDY5MTJkMTQxMmY2ZGYiLCJ4LW1zLXNldnNucHZtLW1pY3JvY29kZS1zdm4iOjExNSwieC1tcy1zZXZzbnB2bS1taWdyYXRpb24tYWxsb3dlZCI6ZmFsc2UsIngtbXMtc2V2c25wdm0tcmVwb3J0ZGF0YSI6IjdhYjAwMGEzMjNiM2M4NzNmNWI4MWJiZTU4NGU3YzFhMjZiY2Y0MGRjMjdlMDBmOGUwZDE0NGIxZWQyZDE0ZjEwMDAwMDAwMDAwMDAwMDAwMDAwMDAwMDAwMDAwMDAwMDAwMDAwMDAwMDAwMDAwMDAwMDAwMDAwMDAwMDAwMDAwIiwieC1tcy1zZXZzbnB2bS1yZXBvcnRpZCI6IjRlMTAyNjVjMGZiMGQwOGY4NDI3YzQ2Y2JkYzk0NWRhZWMzY2Y5YTA1OWQ2NmYzYzg0OTBjYjA0MTVlY2UzYjQiLCJ4LW1zLXNldnNucHZtLXNtdC1hbGxvd2VkIjp0cnVlLCJ4LW1zLXNldnNucHZtLXNucGZ3LXN2biI6OCwieC1tcy1zZXZzbnB2bS10ZWUtc3ZuIjowLCJ4LW1zLXNldnNucHZtLXV2bS1lbmRvcnNlbWVudCI6eyJ4LW1zLXNldnNucHZtLWd1ZXN0c3ZuIjoiMTAwIiwieC1tcy1zZXZzbnB2bS1sYXVuY2htZWFzdXJlbWVudCI6IjAzZmVhMDI4MjMxODliMjVkMDYyM2E1YzgxZjk3YzhiYTRkMmZiYzQ4YzkxNGE1NWNlNTI1ZjkwNDU0ZGRjZWMzMDM3NDNkYWMyZmMwMTNmMDg0NjkxMmQxNDEyZjZkZiJ9LCJ4LW1zLXNldnNucHZtLXV2bS1lbmRvcnNlbWVudC1oZWFkZXJzIjp7ImZlZWQiOiJDb250YWluZXJQbGF0LUFNRC1VVk0iLCJpc3MiOiJkaWQ6eDUwOTowOnNoYTI1NjpJX19pdUwyNW9YRVZGZFRQX2FCTHhfZVQxUlBIYkNRX0VDQlFmWVpwdDlzOjpla3U6MS4zLjYuMS40LjEuMzExLjc2LjU5LjEuMiJ9LCJ4LW1zLXNldnNucHZtLXZtcGwiOjAsIngtbXMtdmVyIjoiMS4wIn0.nTIssdvo50JUqitMAHnsm3_n48EqT2i0-Zu2tA8LypHD26UXKr1iwgDcp6oDHzbMg7EWAyI-bOFDhozCT_P1odTlz5AdALE9jASH8IhbP5_El1kMCiw8MxV7L9qjh39VUVitToUaUvNp6SSXsqhlpYiJrAfbfu4RRoSnE_A8_V6pAr5LoEJhnqLqb2EKgLZnnWqnLFj0hyWj83s5D8_WP8xC05kDZAhRXMboKbOpWciAzSRBdRc9c9Az3g59mCSrGHYVG1NfpyhsRUtPLFafhFoKtAgGaWn6LXBjPyFIsTTOrjhbm9J4P-fLgDKLmHvxJzufLrS-RH_o_GgN-pyUYw\"}'}\n"
     ]
    }
   ],
   "source": [
    "\n",
    "# TODO: update the public_ip_address to the public ip address of your deployed container group. You can obtain the ip address from azure portal.  \n",
    "\n",
    "public_ip_address = '20.88.190.100'\n",
    "# call the maa endpoint\n",
    "maa_response = requests.post(f'http://{public_ip_address}/attest/maa', \n",
    "                            json={\"runtime_data\": runtime_data, \"maa_endpoint\": attestation_endpoint})\n",
    "print(\"Maa Response: \", maa_response.json())\n"
   ]
  },
  {
   "cell_type": "code",
   "execution_count": 33,
   "metadata": {},
   "outputs": [
    {
     "data": {
      "text/plain": [
       "'3bdCYJabzfhISFtb3J8yuEESZwufV7hhh08N3ZflAuE='"
      ]
     },
     "execution_count": 33,
     "metadata": {},
     "output_type": "execute_result"
    }
   ],
   "source": [
    "\n",
    "token = json.loads(maa_response.json().get(\"result\")).get(\"token\")\n",
    "\n",
    "# verify the token\n",
    "\n",
    "header = jwt.get_unverified_header(token)\n",
    "kid = header['kid']\n",
    "kid\n"
   ]
  },
  {
   "cell_type": "code",
   "execution_count": 32,
   "metadata": {},
   "outputs": [
    {
     "name": "stdout",
     "output_type": "stream",
     "text": [
      "Valid JWT : Attestation token signature verified: {'exp': 1693477605, 'iat': 1693448805, 'iss': 'https://sharedeus2.eus2.test.attest.azure.net', 'jti': '30389604158ca4e99a5b1e2d53698e5ec5fe46966aca468bea4b3c20a9eef724', 'nbf': 1693448805, 'nonce': '16103641454482022980', 'x-ms-attestation-type': 'sevsnpvm', 'x-ms-compliance-status': 'azure-compliant-uvm', 'x-ms-policy-hash': '9NY0VnTQ-IiBriBplVUpFbczcDaEBUwsiFYAzHu_gco', 'x-ms-runtime': {'keys': [{'e': 'AQAB', 'key_ops': ['encrypt'], 'kid': 'Nvhfuq2cCIOAB8XR4Xi9Pr0NP_9CeMzWQGtW_HALz_w', 'kty': 'RSA', 'n': 'v965SRmyp8zbG5eNFuDCmmiSeaHpujG2bC_keLSuzvDMLO1WyrUJveaa5bzMoO0pA46pXkmbqHisozVzpiNDLCo6d3z4TrGMeFPf2APIMu-RSrzN56qvHVyIr5caWfHWk-FMRDwAefyNYRHkdYYkgmFK44hhUdtlCAKEv5UQpFZjvh4iI9jVBdGYMyBaKQLhjI5WIh-QG6Za5sSuOCFMnmuyuvN5DflpLFz595Ss-EoBIY-Nil6lCtvcGgR-IbjUYHAOs5ajamTzgeO8kx3VCE9HcyKmyUZsiyiF6IDRp2Bpy3NHTjIz7tmkpTHx7tHnRtlfE2FUv0B6i_QYl_ZA5Q'}]}, 'x-ms-sevsnpvm-authorkeydigest': '000000000000000000000000000000000000000000000000000000000000000000000000000000000000000000000000', 'x-ms-sevsnpvm-bootloader-svn': 3, 'x-ms-sevsnpvm-familyId': '01000000000000000000000000000000', 'x-ms-sevsnpvm-guestsvn': 2, 'x-ms-sevsnpvm-hostdata': '708927e5febd5666d4cac83e7cb76b2313c8b85e99626005e1a981486c3aa34f', 'x-ms-sevsnpvm-idkeydigest': 'ebeeeabce075eeaba3d9ea24d8495137a2877c0d20ac6ea73fc6d2f8aeb50de132150e0a0752664919bcebbf2e8c5807', 'x-ms-sevsnpvm-imageId': '02000000000000000000000000000000', 'x-ms-sevsnpvm-is-debuggable': False, 'x-ms-sevsnpvm-launchmeasurement': '03fea02823189b25d0623a5c81f97c8ba4d2fbc48c914a55ce525f90454ddcec303743dac2fc013f0846912d1412f6df', 'x-ms-sevsnpvm-microcode-svn': 115, 'x-ms-sevsnpvm-migration-allowed': False, 'x-ms-sevsnpvm-reportdata': '7ab000a323b3c873f5b81bbe584e7c1a26bcf40dc27e00f8e0d144b1ed2d14f10000000000000000000000000000000000000000000000000000000000000000', 'x-ms-sevsnpvm-reportid': '4e10265c0fb0d08f8427c46cbdc945daec3cf9a059d66f3c8490cb0415ece3b4', 'x-ms-sevsnpvm-smt-allowed': True, 'x-ms-sevsnpvm-snpfw-svn': 8, 'x-ms-sevsnpvm-tee-svn': 0, 'x-ms-sevsnpvm-uvm-endorsement': {'x-ms-sevsnpvm-guestsvn': '100', 'x-ms-sevsnpvm-launchmeasurement': '03fea02823189b25d0623a5c81f97c8ba4d2fbc48c914a55ce525f90454ddcec303743dac2fc013f0846912d1412f6df'}, 'x-ms-sevsnpvm-uvm-endorsement-headers': {'feed': 'ContainerPlat-AMD-UVM', 'iss': 'did:x509:0:sha256:I__iuL25oXEVFdTP_aBLx_eT1RPHbCQ_ECBQfYZpt9s::eku:1.3.6.1.4.1.311.76.59.1.2'}, 'x-ms-sevsnpvm-vmpl': 0, 'x-ms-ver': '1.0'}\n"
     ]
    }
   ],
   "source": [
    "\n",
    "\n",
    "# Find the key with a matching 'kid' in the JWKS\n",
    "key_to_use = None\n",
    "for key_kid, key in jwks:\n",
    "        if key_kid == kid:\n",
    "            key_to_use = key\n",
    "            break\n",
    "\n",
    "if key_to_use is not None:\n",
    "        try:\n",
    "            payload = jwt.decode(token, key=key_to_use, algorithms=[\"RS256\"])\n",
    "            print(\"Valid JWT : Attestation token signature verified:\", payload)\n",
    "            \n",
    "        except jwt.InvalidTokenError:\n",
    "            print(\"Invalid JWT\")\n",
    "else:\n",
    "        print(\"No matching key found in JWKS\")\n",
    "\n"
   ]
  },
  {
   "cell_type": "code",
   "execution_count": 21,
   "metadata": {},
   "outputs": [
    {
     "name": "stdout",
     "output_type": "stream",
     "text": [
      "SEV-SNP Host Data:\n",
      " 708927e5febd5666d4cac83e7cb76b2313c8b85e99626005e1a981486c3aa34f\n",
      "Security Policy Hash Matches\n",
      "Host is Trusted\n"
     ]
    }
   ],
   "source": [
    "\n",
    "print(\"SEV-SNP Host Data:\\n\", payload.get(\"x-ms-sevsnpvm-hostdata\"))\n",
    "if(sha256_hash_sum == payload.get(\"x-ms-sevsnpvm-hostdata\")):\n",
    "    print(\"Security Policy Hash Matches\")\n",
    "    print(\"Host is Trusted\")\n",
    "else:\n",
    "    print(\"Security Policy Hash Does Not Match\")\n",
    "    print(\"Host is Not Trusted\")"
   ]
  },
  {
   "attachments": {},
   "cell_type": "markdown",
   "metadata": {},
   "source": [
    "### Step 6 : Error scenario : Attempt to deploy an image different than what is captured in the security policy \n",
    "We want to break the deployment by deploying a different image, in this case a container image that calculates the product of two numbers instead of the sum with the same repository and tag.\n",
    "\n",
    "After the successful execution of this step, please go to the azure portal and restart the container group that was deployed previously in Step 4. Once the container group restarts, the new image will break the policy and fail the deployment as the updated image does not reflect the policy. This is simulating an attack scenario where the container image is updated by a malicious actor. \n",
    "This is also why the `latest` tag is not recommended for Confidential ACI. \n"
   ]
  },
  {
   "cell_type": "code",
   "execution_count": 40,
   "metadata": {},
   "outputs": [
    {
     "data": {
      "text/plain": [
       "CompletedProcess(args=['docker push tanaybaswa/attestedkms:latest'], returncode=0, stdout=b'The push refers to repository [docker.io/tanaybaswa/attestedkms]\\n563c64030925: Preparing\\n6fb960878295: Preparing\\ne161c3f476b5: Preparing\\n8a7e12012e6f: Preparing\\nd0a62f56ef41: Preparing\\n4713cb24eeff: Preparing\\n511780f88f80: Preparing\\n4713cb24eeff: Waiting\\n511780f88f80: Waiting\\nd0a62f56ef41: Layer already exists\\n6fb960878295: Layer already exists\\ne161c3f476b5: Layer already exists\\n563c64030925: Layer already exists\\n8a7e12012e6f: Layer already exists\\n511780f88f80: Layer already exists\\n4713cb24eeff: Layer already exists\\nlatest: digest: sha256:8a51b2bbb7a030e998ddfd4cb0669f8d0479512a245be12176f13dcdd115aa55 size: 1778\\n', stderr=b'')"
      ]
     },
     "execution_count": 40,
     "metadata": {},
     "output_type": "execute_result"
    }
   ],
   "source": [
    "# deploy product + skr container with ARM Template from CLI\n",
    "#cacidemo is a sample repository name, you can change it to something else and update below. For this scenario the name should be the same as the one used in step2\n",
    "import subprocess\n",
    "subprocess.run([\"docker build -t tanaybaswa/attestedkms:latest /home/tanaybaswa/code/azure_coco_aci/kms_skr/nginx/\"], capture_output=True, shell=True)\n",
    "subprocess.run([\"docker push tanaybaswa/attestedkms:latest\"], capture_output=True, shell=True)"
   ]
  },
  {
   "cell_type": "markdown",
   "metadata": {},
   "source": [
    "### Step 7: Revert back to Correct Image"
   ]
  },
  {
   "cell_type": "code",
   "execution_count": 41,
   "metadata": {},
   "outputs": [
    {
     "data": {
      "text/plain": [
       "CompletedProcess(args=['docker push tanaybaswa/attestedkms:latest'], returncode=0, stdout='The push refers to repository [docker.io/tanaybaswa/attestedkms]\\n5f70bf18a086: Preparing\\nf73ab0be9222: Preparing\\nf2b087a0b61e: Preparing\\nbd6143418689: Preparing\\n1847aa24cd34: Preparing\\n2f6e140f1970: Preparing\\nf30c9841a094: Preparing\\na886fdc1df20: Preparing\\nb2e5b1eee192: Preparing\\nb485c6cd33a6: Preparing\\n6aa872026017: Preparing\\n43ba18a5eaf8: Preparing\\nff61a9b258e5: Preparing\\nb2e5b1eee192: Waiting\\nb485c6cd33a6: Waiting\\n6aa872026017: Waiting\\n43ba18a5eaf8: Waiting\\nf30c9841a094: Waiting\\nff61a9b258e5: Waiting\\na886fdc1df20: Waiting\\n2f6e140f1970: Waiting\\n5f70bf18a086: Layer already exists\\nbd6143418689: Layer already exists\\nf73ab0be9222: Layer already exists\\nf2b087a0b61e: Layer already exists\\n1847aa24cd34: Layer already exists\\n2f6e140f1970: Layer already exists\\nf30c9841a094: Layer already exists\\nb2e5b1eee192: Layer already exists\\na886fdc1df20: Layer already exists\\nb485c6cd33a6: Layer already exists\\n6aa872026017: Layer already exists\\n43ba18a5eaf8: Layer already exists\\nff61a9b258e5: Layer already exists\\nlatest: digest: sha256:ed73a627ee94c6827066cdc83f0529ef245eae9d511907ef524bead76f8c262b size: 3050\\n', stderr='')"
      ]
     },
     "execution_count": 41,
     "metadata": {},
     "output_type": "execute_result"
    }
   ],
   "source": [
    "# build and push the image to the registry\n",
    "subprocess.run([\"docker build -t tanaybaswa/attestedkms:latest /home/tanaybaswa/code/enkryptai/key-manager/\"], shell=True, capture_output=True, text=True)\n",
    "subprocess.run([\"docker push tanaybaswa/attestedkms:latest\"], shell=True, capture_output=True, text=True)"
   ]
  },
  {
   "attachments": {},
   "cell_type": "markdown",
   "metadata": {},
   "source": [
    "### Step 8 : Restart the Container Group Again, Go Through checks and check Attestation."
   ]
  },
  {
   "cell_type": "code",
   "execution_count": 42,
   "metadata": {},
   "outputs": [
    {
     "name": "stdout",
     "output_type": "stream",
     "text": [
      "Maa Response:  {'result': '{\"token\":\"eyJhbGciOiJSUzI1NiIsImprdSI6Imh0dHBzOi8vc2hhcmVkZXVzMi5ldXMyLnRlc3QuYXR0ZXN0LmF6dXJlLm5ldC9jZXJ0cyIsImtpZCI6IjNiZENZSmFiemZoSVNGdGIzSjh5dUVFU1p3dWZWN2hoaDA4TjNaZmxBdUU9IiwidHlwIjoiSldUIn0.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.RCbHu_pQitDOs_D2mpNnt_QLCSx9Ph0u7BTMugK1cENo6MQwMK2oiPEUm3k8UBIJbTpUkImpKRrr-Ps6Qa3qWdHv-TCyFyqrDspU9FVJiR_ae9pa6yW1LS-mGAjcAqs_rp4sBoYGZ5ZhzwsdS54wEi2ZP1ndmN6W2B08d3_Fy-YMfaR_eWD5H0e7kekbhxWFAFvIPIJa-1GfsVBM0zo3xHGdMP3rug50hpVI2eFQCBJjKFRm4-a3thsUIgplyCRg88LPJuJqb3v0n1i3Q8Ogjt4-8pmopxJR-MYMpHQJNYSfu5AWuQhm8h9sD2jVxyNxMcISZo_0l54t7RWENQZUKA\"}'}\n"
     ]
    },
    {
     "data": {
      "text/plain": [
       "'3bdCYJabzfhISFtb3J8yuEESZwufV7hhh08N3ZflAuE='"
      ]
     },
     "execution_count": 42,
     "metadata": {},
     "output_type": "execute_result"
    }
   ],
   "source": [
    "public_ip_address = '20.242.201.73'\n",
    "# call the maa endpoint\n",
    "maa_response = requests.post(f'http://{public_ip_address}/attest/maa', \n",
    "                            json={\"runtime_data\": runtime_data, \"maa_endpoint\": attestation_endpoint})\n",
    "print(\"Maa Response: \", maa_response.json())\n",
    "\n",
    "token = json.loads(maa_response.json().get(\"result\")).get(\"token\")\n",
    "\n",
    "# verify the token\n",
    "\n",
    "header = jwt.get_unverified_header(token)\n",
    "kid = header['kid']\n",
    "kid"
   ]
  },
  {
   "cell_type": "code",
   "execution_count": 43,
   "metadata": {},
   "outputs": [
    {
     "name": "stdout",
     "output_type": "stream",
     "text": [
      "Valid JWT : Attestation token signature verified: {'exp': 1693478075, 'iat': 1693449275, 'iss': 'https://sharedeus2.eus2.test.attest.azure.net', 'jti': '2bee7a067e4dd3846f02fd4b50e22947ac3ff12e1fdc0e28e9adae7cd7c6a70e', 'nbf': 1693449275, 'nonce': '17454858821997164352', 'x-ms-attestation-type': 'sevsnpvm', 'x-ms-compliance-status': 'azure-compliant-uvm', 'x-ms-policy-hash': '9NY0VnTQ-IiBriBplVUpFbczcDaEBUwsiFYAzHu_gco', 'x-ms-runtime': {'keys': [{'e': 'AQAB', 'key_ops': ['encrypt'], 'kid': 'Nvhfuq2cCIOAB8XR4Xi9Pr0NP_9CeMzWQGtW_HALz_w', 'kty': 'RSA', 'n': 'v965SRmyp8zbG5eNFuDCmmiSeaHpujG2bC_keLSuzvDMLO1WyrUJveaa5bzMoO0pA46pXkmbqHisozVzpiNDLCo6d3z4TrGMeFPf2APIMu-RSrzN56qvHVyIr5caWfHWk-FMRDwAefyNYRHkdYYkgmFK44hhUdtlCAKEv5UQpFZjvh4iI9jVBdGYMyBaKQLhjI5WIh-QG6Za5sSuOCFMnmuyuvN5DflpLFz595Ss-EoBIY-Nil6lCtvcGgR-IbjUYHAOs5ajamTzgeO8kx3VCE9HcyKmyUZsiyiF6IDRp2Bpy3NHTjIz7tmkpTHx7tHnRtlfE2FUv0B6i_QYl_ZA5Q'}]}, 'x-ms-sevsnpvm-authorkeydigest': '000000000000000000000000000000000000000000000000000000000000000000000000000000000000000000000000', 'x-ms-sevsnpvm-bootloader-svn': 3, 'x-ms-sevsnpvm-familyId': '01000000000000000000000000000000', 'x-ms-sevsnpvm-guestsvn': 2, 'x-ms-sevsnpvm-hostdata': '708927e5febd5666d4cac83e7cb76b2313c8b85e99626005e1a981486c3aa34f', 'x-ms-sevsnpvm-idkeydigest': 'ebeeeabce075eeaba3d9ea24d8495137a2877c0d20ac6ea73fc6d2f8aeb50de132150e0a0752664919bcebbf2e8c5807', 'x-ms-sevsnpvm-imageId': '02000000000000000000000000000000', 'x-ms-sevsnpvm-is-debuggable': False, 'x-ms-sevsnpvm-launchmeasurement': '03fea02823189b25d0623a5c81f97c8ba4d2fbc48c914a55ce525f90454ddcec303743dac2fc013f0846912d1412f6df', 'x-ms-sevsnpvm-microcode-svn': 115, 'x-ms-sevsnpvm-migration-allowed': False, 'x-ms-sevsnpvm-reportdata': '7ab000a323b3c873f5b81bbe584e7c1a26bcf40dc27e00f8e0d144b1ed2d14f10000000000000000000000000000000000000000000000000000000000000000', 'x-ms-sevsnpvm-reportid': 'c3664ded12b33229621ee9d2abf0b9533e9930a4036d915574930674cb5ad138', 'x-ms-sevsnpvm-smt-allowed': True, 'x-ms-sevsnpvm-snpfw-svn': 8, 'x-ms-sevsnpvm-tee-svn': 0, 'x-ms-sevsnpvm-uvm-endorsement': {'x-ms-sevsnpvm-guestsvn': '100', 'x-ms-sevsnpvm-launchmeasurement': '03fea02823189b25d0623a5c81f97c8ba4d2fbc48c914a55ce525f90454ddcec303743dac2fc013f0846912d1412f6df'}, 'x-ms-sevsnpvm-uvm-endorsement-headers': {'feed': 'ContainerPlat-AMD-UVM', 'iss': 'did:x509:0:sha256:I__iuL25oXEVFdTP_aBLx_eT1RPHbCQ_ECBQfYZpt9s::eku:1.3.6.1.4.1.311.76.59.1.2'}, 'x-ms-sevsnpvm-vmpl': 0, 'x-ms-ver': '1.0'}\n",
      "SEV-SNP Host Data:\n",
      " 708927e5febd5666d4cac83e7cb76b2313c8b85e99626005e1a981486c3aa34f\n",
      "Security Policy Hash Matches\n",
      "Host is Trusted\n"
     ]
    }
   ],
   "source": [
    "\n",
    "# Find the key with a matching 'kid' in the JWKS\n",
    "key_to_use = None\n",
    "for key_kid, key in jwks:\n",
    "        if key_kid == kid:\n",
    "            key_to_use = key\n",
    "            break\n",
    "if key_to_use is not None:\n",
    "        try:\n",
    "            payload = jwt.decode(token, key=key_to_use, algorithms=[\"RS256\"])\n",
    "            print(\"Valid JWT : Attestation token signature verified:\", payload)\n",
    "            \n",
    "        except jwt.InvalidTokenError:\n",
    "            print(\"Invalid JWT\")\n",
    "else:\n",
    "        print(\"No matching key found in JWKS\")\n",
    "\n",
    "\n",
    "print(\"SEV-SNP Host Data:\\n\", payload.get(\"x-ms-sevsnpvm-hostdata\"))\n",
    "if(sha256_hash_sum == payload.get(\"x-ms-sevsnpvm-hostdata\")):\n",
    "    print(\"Security Policy Hash Matches\")\n",
    "    print(\"Host is Trusted\")\n",
    "else:\n",
    "    print(\"Security Policy Hash Does Not Match\")\n",
    "    print(\"Host is Not Trusted\")\n"
   ]
  }
 ],
 "metadata": {
  "kernelspec": {
   "display_name": "Python 3 (ipykernel)",
   "language": "python",
   "name": "python3"
  },
  "language_info": {
   "codemirror_mode": {
    "name": "ipython",
    "version": 3
   },
   "file_extension": ".py",
   "mimetype": "text/x-python",
   "name": "python",
   "nbconvert_exporter": "python",
   "pygments_lexer": "ipython3",
   "version": "3.10.12"
  }
 },
 "nbformat": 4,
 "nbformat_minor": 2
}
